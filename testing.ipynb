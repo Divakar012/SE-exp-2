{
  "nbformat": 4,
  "nbformat_minor": 0,
  "metadata": {
    "colab": {
      "provenance": []
    },
    "kernelspec": {
      "name": "python3",
      "display_name": "Python 3"
    },
    "language_info": {
      "name": "python"
    }
  },
  "cells": [
    {
      "cell_type": "code",
      "source": [
        "!wget https://edgedl.me.gvt1.com/edgedl/chrome/chrome-for-testing/131.0.6778.139/linux64/chromedriver-linux64.zip\n",
        "!unzip -o chromedriver-linux64.zip -d /usr/local/bin/  # Overwrites existing files without asking\n",
        "!chmod +x /usr/local/bin/chromedriver-linux64/chromedriver\n",
        "\n",
        "!wget https://dl.google.com/linux/direct/google-chrome-stable_current_amd64.deb\n",
        "!sudo apt-get install -y ./google-chrome-stable_current_amd64.deb\n",
        "!sudo apt --fix-broken install -y\n",
        "\n",
        "!which google-chrome\n",
        "!google-chrome --version\n",
        "!unzip -o chromedriver-linux64.zip -d /usr/local/bin/  # Ensuring no prompt\n",
        "!chmod +x /usr/local/bin/chromedriver-linux64/chromedriver\n",
        "!pip install webdriver-manager\n"
      ],
      "metadata": {
        "colab": {
          "base_uri": "https://localhost:8080/"
        },
        "id": "6hLJF5EFA1Uq",
        "outputId": "89f57e15-d8f3-40f1-b1d3-df3c6ff8345c"
      },
      "execution_count": null,
      "outputs": [
        {
          "output_type": "stream",
          "name": "stdout",
          "text": [
            "--2025-02-16 04:28:20--  https://edgedl.me.gvt1.com/edgedl/chrome/chrome-for-testing/131.0.6778.139/linux64/chromedriver-linux64.zip\n",
            "Resolving edgedl.me.gvt1.com (edgedl.me.gvt1.com)... 34.104.35.123, 2600:1900:4110:86f::\n",
            "Connecting to edgedl.me.gvt1.com (edgedl.me.gvt1.com)|34.104.35.123|:443... connected.\n",
            "HTTP request sent, awaiting response... 302 Found\n",
            "Location: https://storage.googleapis.com/chrome-for-testing-public/131.0.6778.139/linux64/chromedriver-linux64.zip [following]\n",
            "--2025-02-16 04:28:20--  https://storage.googleapis.com/chrome-for-testing-public/131.0.6778.139/linux64/chromedriver-linux64.zip\n",
            "Resolving storage.googleapis.com (storage.googleapis.com)... 74.125.196.207, 173.194.217.207, 74.125.134.207, ...\n",
            "Connecting to storage.googleapis.com (storage.googleapis.com)|74.125.196.207|:443... connected.\n",
            "HTTP request sent, awaiting response... 200 OK\n",
            "Length: 9930510 (9.5M) [application/zip]\n",
            "Saving to: ‘chromedriver-linux64.zip’\n",
            "\n",
            "chromedriver-linux6 100%[===================>]   9.47M  --.-KB/s    in 0.1s    \n",
            "\n",
            "2025-02-16 04:28:20 (95.3 MB/s) - ‘chromedriver-linux64.zip’ saved [9930510/9930510]\n",
            "\n",
            "Archive:  chromedriver-linux64.zip\n",
            "  inflating: /usr/local/bin/chromedriver-linux64/LICENSE.chromedriver  \n",
            "  inflating: /usr/local/bin/chromedriver-linux64/THIRD_PARTY_NOTICES.chromedriver  \n",
            "  inflating: /usr/local/bin/chromedriver-linux64/chromedriver  \n",
            "--2025-02-16 04:28:21--  https://dl.google.com/linux/direct/google-chrome-stable_current_amd64.deb\n",
            "Resolving dl.google.com (dl.google.com)... 74.125.141.91, 74.125.141.136, 74.125.141.190, ...\n",
            "Connecting to dl.google.com (dl.google.com)|74.125.141.91|:443... connected.\n",
            "HTTP request sent, awaiting response... 200 OK\n",
            "Length: 114042240 (109M) [application/x-debian-package]\n",
            "Saving to: ‘google-chrome-stable_current_amd64.deb’\n",
            "\n",
            "google-chrome-stabl 100%[===================>] 108.76M   319MB/s    in 0.3s    \n",
            "\n",
            "2025-02-16 04:28:21 (319 MB/s) - ‘google-chrome-stable_current_amd64.deb’ saved [114042240/114042240]\n",
            "\n",
            "Reading package lists... Done\n",
            "Building dependency tree... Done\n",
            "Reading state information... Done\n",
            "Note, selecting 'google-chrome-stable' instead of './google-chrome-stable_current_amd64.deb'\n",
            "google-chrome-stable is already the newest version (133.0.6943.98-1).\n",
            "0 upgraded, 0 newly installed, 0 to remove and 20 not upgraded.\n",
            "Reading package lists... Done\n",
            "Building dependency tree... Done\n",
            "Reading state information... Done\n",
            "0 upgraded, 0 newly installed, 0 to remove and 20 not upgraded.\n",
            "/usr/bin/google-chrome\n",
            "Google Chrome 133.0.6943.98 \n",
            "Archive:  chromedriver-linux64.zip\n",
            "  inflating: /usr/local/bin/chromedriver-linux64/LICENSE.chromedriver  \n",
            "  inflating: /usr/local/bin/chromedriver-linux64/THIRD_PARTY_NOTICES.chromedriver  \n",
            "  inflating: /usr/local/bin/chromedriver-linux64/chromedriver  \n",
            "Collecting webdriver-manager\n",
            "  Using cached webdriver_manager-4.0.2-py2.py3-none-any.whl.metadata (12 kB)\n",
            "Requirement already satisfied: requests in /usr/local/lib/python3.11/dist-packages (from webdriver-manager) (2.32.3)\n",
            "Requirement already satisfied: python-dotenv in /usr/local/lib/python3.11/dist-packages (from webdriver-manager) (1.0.1)\n",
            "Requirement already satisfied: packaging in /usr/local/lib/python3.11/dist-packages (from webdriver-manager) (24.2)\n",
            "Requirement already satisfied: charset-normalizer<4,>=2 in /usr/local/lib/python3.11/dist-packages (from requests->webdriver-manager) (3.4.1)\n",
            "Requirement already satisfied: idna<4,>=2.5 in /usr/local/lib/python3.11/dist-packages (from requests->webdriver-manager) (3.10)\n",
            "Requirement already satisfied: urllib3<3,>=1.21.1 in /usr/local/lib/python3.11/dist-packages (from requests->webdriver-manager) (2.3.0)\n",
            "Requirement already satisfied: certifi>=2017.4.17 in /usr/local/lib/python3.11/dist-packages (from requests->webdriver-manager) (2025.1.31)\n",
            "Using cached webdriver_manager-4.0.2-py2.py3-none-any.whl (27 kB)\n",
            "Installing collected packages: webdriver-manager\n",
            "Successfully installed webdriver-manager-4.0.2\n"
          ]
        }
      ]
    },
    {
      "cell_type": "code",
      "source": [
        "!pip install selenium\n"
      ],
      "metadata": {
        "colab": {
          "base_uri": "https://localhost:8080/"
        },
        "id": "_BGnuQ6uA-U2",
        "outputId": "3d78e683-aff3-4404-82d0-81bd0d7c5494"
      },
      "execution_count": null,
      "outputs": [
        {
          "output_type": "stream",
          "name": "stdout",
          "text": [
            "Collecting selenium\n",
            "  Downloading selenium-4.28.1-py3-none-any.whl.metadata (7.1 kB)\n",
            "Requirement already satisfied: urllib3<3,>=1.26 in /usr/local/lib/python3.11/dist-packages (from urllib3[socks]<3,>=1.26->selenium) (2.3.0)\n",
            "Collecting trio~=0.17 (from selenium)\n",
            "  Downloading trio-0.29.0-py3-none-any.whl.metadata (8.5 kB)\n",
            "Collecting trio-websocket~=0.9 (from selenium)\n",
            "  Downloading trio_websocket-0.11.1-py3-none-any.whl.metadata (4.7 kB)\n",
            "Requirement already satisfied: certifi>=2021.10.8 in /usr/local/lib/python3.11/dist-packages (from selenium) (2025.1.31)\n",
            "Requirement already satisfied: typing_extensions~=4.9 in /usr/local/lib/python3.11/dist-packages (from selenium) (4.12.2)\n",
            "Requirement already satisfied: websocket-client~=1.8 in /usr/local/lib/python3.11/dist-packages (from selenium) (1.8.0)\n",
            "Requirement already satisfied: attrs>=23.2.0 in /usr/local/lib/python3.11/dist-packages (from trio~=0.17->selenium) (25.1.0)\n",
            "Collecting sortedcontainers (from trio~=0.17->selenium)\n",
            "  Downloading sortedcontainers-2.4.0-py2.py3-none-any.whl.metadata (10 kB)\n",
            "Requirement already satisfied: idna in /usr/local/lib/python3.11/dist-packages (from trio~=0.17->selenium) (3.10)\n",
            "Collecting outcome (from trio~=0.17->selenium)\n",
            "  Downloading outcome-1.3.0.post0-py2.py3-none-any.whl.metadata (2.6 kB)\n",
            "Requirement already satisfied: sniffio>=1.3.0 in /usr/local/lib/python3.11/dist-packages (from trio~=0.17->selenium) (1.3.1)\n",
            "Collecting wsproto>=0.14 (from trio-websocket~=0.9->selenium)\n",
            "  Downloading wsproto-1.2.0-py3-none-any.whl.metadata (5.6 kB)\n",
            "Requirement already satisfied: pysocks!=1.5.7,<2.0,>=1.5.6 in /usr/local/lib/python3.11/dist-packages (from urllib3[socks]<3,>=1.26->selenium) (1.7.1)\n",
            "Requirement already satisfied: h11<1,>=0.9.0 in /usr/local/lib/python3.11/dist-packages (from wsproto>=0.14->trio-websocket~=0.9->selenium) (0.14.0)\n",
            "Downloading selenium-4.28.1-py3-none-any.whl (9.5 MB)\n",
            "\u001b[2K   \u001b[90m━━━━━━━━━━━━━━━━━━━━━━━━━━━━━━━━━━━━━━━━\u001b[0m \u001b[32m9.5/9.5 MB\u001b[0m \u001b[31m60.1 MB/s\u001b[0m eta \u001b[36m0:00:00\u001b[0m\n",
            "\u001b[?25hDownloading trio-0.29.0-py3-none-any.whl (492 kB)\n",
            "\u001b[2K   \u001b[90m━━━━━━━━━━━━━━━━━━━━━━━━━━━━━━━━━━━━━━━━\u001b[0m \u001b[32m492.9/492.9 kB\u001b[0m \u001b[31m28.7 MB/s\u001b[0m eta \u001b[36m0:00:00\u001b[0m\n",
            "\u001b[?25hDownloading trio_websocket-0.11.1-py3-none-any.whl (17 kB)\n",
            "Downloading wsproto-1.2.0-py3-none-any.whl (24 kB)\n",
            "Downloading outcome-1.3.0.post0-py2.py3-none-any.whl (10 kB)\n",
            "Downloading sortedcontainers-2.4.0-py2.py3-none-any.whl (29 kB)\n",
            "Installing collected packages: sortedcontainers, wsproto, outcome, trio, trio-websocket, selenium\n",
            "Successfully installed outcome-1.3.0.post0 selenium-4.28.1 sortedcontainers-2.4.0 trio-0.29.0 trio-websocket-0.11.1 wsproto-1.2.0\n"
          ]
        }
      ]
    },
    {
      "cell_type": "code",
      "source": [
        "from selenium.webdriver.chrome.options import Options\n",
        "\n",
        "# Create an instance of Options\n",
        "chrome_options = Options()\n",
        "\n",
        "# Add arguments for headless mode and performance improvements\n",
        "chrome_options.add_argument(\"--headless\")\n",
        "chrome_options.add_argument(\"--disable-gpu\")\n",
        "chrome_options.add_argument(\"--no-sandbox\")\n",
        "chrome_options.add_argument(\"--disable-dev-shm-usage\")\n"
      ],
      "metadata": {
        "id": "eESNPzczBGrE"
      },
      "execution_count": null,
      "outputs": []
    },
    {
      "cell_type": "code",
      "source": [
        "from selenium.webdriver.chrome.service import Service\n",
        "from selenium.webdriver.common.by import By\n",
        "from selenium.webdriver.support.ui import WebDriverWait\n",
        "from selenium.webdriver.support import expected_conditions as EC\n",
        "from selenium.common.exceptions import TimeoutException, ElementNotInteractableException\n",
        "from webdriver_manager.chrome import ChromeDriverManager\n",
        "from selenium import webdriver\n",
        "import time\n"
      ],
      "metadata": {
        "id": "ysMlwHvtBMu9"
      },
      "execution_count": null,
      "outputs": []
    },
    {
      "cell_type": "code",
      "source": [
        "# Setup Chrome WebDriver\n",
        "driver = webdriver.Chrome(service=Service(ChromeDriverManager().install()), options=chrome_options)\n",
        "\n",
        "# Load the HTML file in the browser\n",
        "driver.get(\"file:///content/quadratic_solver.html\")  # Update with the correct file path\n",
        "\n",
        "# Wait instance\n",
        "wait = WebDriverWait(driver, 10)\n",
        "\n",
        "print(\"Starting tests for Quadratic Solver...\\n\")\n"
      ],
      "metadata": {
        "colab": {
          "base_uri": "https://localhost:8080/"
        },
        "id": "jrd9NtnABP86",
        "outputId": "2d094965-42ac-4939-fd3c-14b84bbe4b52"
      },
      "execution_count": null,
      "outputs": [
        {
          "output_type": "stream",
          "name": "stdout",
          "text": [
            "Starting tests for Quadratic Solver...\n",
            "\n"
          ]
        }
      ]
    },
    {
      "cell_type": "code",
      "source": [
        "print(\"Test 1: Hardcoded Input\")\n",
        "try:\n",
        "    driver.find_element(By.XPATH, \"//input[@value='hardcoded']\").click()\n",
        "    driver.find_element(By.XPATH, \"//button[@onclick='solveEquation()']\").click()\n",
        "    time.sleep(2)\n",
        "    result = driver.find_element(By.ID, \"result\").text\n",
        "    print(f\"Result: {result}\\n\")\n",
        "except Exception as e:\n",
        "    print(f\"Test 1 failed: {str(e)}\\n\")\n"
      ],
      "metadata": {
        "colab": {
          "base_uri": "https://localhost:8080/"
        },
        "id": "B4xaRMoJCgLb",
        "outputId": "352a8ec3-c6c2-444a-ecb9-29f89186812a"
      },
      "execution_count": null,
      "outputs": [
        {
          "output_type": "stream",
          "name": "stdout",
          "text": [
            "Test 1: Hardcoded Input\n",
            "Result: Roots are real and different: 2, 1\n",
            "\n"
          ]
        }
      ]
    },
    {
      "cell_type": "code",
      "source": [
        "print(\"Test 2: Keyboard Input\")\n",
        "try:\n",
        "    driver.find_element(By.XPATH, \"//input[@value='keyboard']\").click()\n",
        "    wait.until(EC.visibility_of_element_located((By.ID, \"keyboardInputs\")))\n",
        "    driver.find_element(By.ID, \"a\").clear()\n",
        "    driver.find_element(By.ID, \"a\").send_keys(\"2\")\n",
        "    driver.find_element(By.ID, \"b\").clear()\n",
        "    driver.find_element(By.ID, \"b\").send_keys(\"-5\")\n",
        "    driver.find_element(By.ID, \"c\").clear()\n",
        "    driver.find_element(By.ID, \"c\").send_keys(\"3\")\n",
        "    driver.find_element(By.XPATH, \"//button[@onclick='solveEquation()']\").click()\n",
        "    time.sleep(2)\n",
        "    result = driver.find_element(By.ID, \"result\").text\n",
        "    print(f\"Result: {result}\\n\")\n",
        "except Exception as e:\n",
        "    print(f\"Test 2 failed: {str(e)}\\n\")\n"
      ],
      "metadata": {
        "colab": {
          "base_uri": "https://localhost:8080/"
        },
        "id": "qXVSMZp1CkAw",
        "outputId": "cb64ce2b-42ca-499b-967c-b4e0561a7481"
      },
      "execution_count": null,
      "outputs": [
        {
          "output_type": "stream",
          "name": "stdout",
          "text": [
            "Test 2: Keyboard Input\n",
            "Result: Roots are real and different: 1.5, 1\n",
            "\n"
          ]
        }
      ]
    },
    {
      "cell_type": "code",
      "source": [
        "print(\"Test 3: File Input\")\n",
        "try:\n",
        "    driver.find_element(By.XPATH, \"//input[@value='file']\").click()\n",
        "    wait.until(EC.visibility_of_element_located((By.ID, \"fileInput\")))\n",
        "    file_input = driver.find_element(By.ID, \"file\")\n",
        "    file_input.send_keys(\"/content/coefficients_EXp1.txt\")  # Update with the correct file path\n",
        "    time.sleep(1)\n",
        "    driver.find_element(By.XPATH, \"//button[@onclick='solveEquation()']\").click()\n",
        "    time.sleep(2)\n",
        "    result = driver.find_element(By.ID, \"result\").text\n",
        "    print(f\"Result: {result}\\n\")\n",
        "except Exception as e:\n",
        "    print(f\"Test 3 failed: {str(e)}\\n\")\n"
      ],
      "metadata": {
        "colab": {
          "base_uri": "https://localhost:8080/"
        },
        "id": "uztbpDYACoHr",
        "outputId": "a5191197-2278-4564-b327-dd1cf44abfcd"
      },
      "execution_count": null,
      "outputs": [
        {
          "output_type": "stream",
          "name": "stdout",
          "text": [
            "Test 3: File Input\n",
            "Test 3 failed: Message: \n",
            "Stacktrace:\n",
            "#0 0x58c3431d5bba <unknown>\n",
            "#1 0x58c342c73790 <unknown>\n",
            "#2 0x58c342cc4c80 <unknown>\n",
            "#3 0x58c342cc4e01 <unknown>\n",
            "#4 0x58c342d13944 <unknown>\n",
            "#5 0x58c342ceaa7d <unknown>\n",
            "#6 0x58c342d10ccc <unknown>\n",
            "#7 0x58c342cea823 <unknown>\n",
            "#8 0x58c342cb6a88 <unknown>\n",
            "#9 0x58c342cb7bf1 <unknown>\n",
            "#10 0x58c34319f15b <unknown>\n",
            "#11 0x58c3431a30e2 <unknown>\n",
            "#12 0x58c34318c01c <unknown>\n",
            "#13 0x58c3431a3cd4 <unknown>\n",
            "#14 0x58c34317048f <unknown>\n",
            "#15 0x58c3431c44f8 <unknown>\n",
            "#16 0x58c3431c46c9 <unknown>\n",
            "#17 0x58c3431d4a36 <unknown>\n",
            "#18 0x7cc908f09ac3 <unknown>\n",
            "\n",
            "\n"
          ]
        }
      ]
    },
    {
      "cell_type": "code",
      "source": [
        "%%bash\n",
        "cat << 'EOF' > /content/coefficients_EXp1.txt\n",
        "4 -7 3\n",
        "10 -2 8\n",
        "9 18 12\n",
        "EOF\n",
        "\n",
        "# Verify the file content\n",
        "cat /content/coefficients_EXp1.txt\n"
      ],
      "metadata": {
        "colab": {
          "base_uri": "https://localhost:8080/"
        },
        "id": "pZO1lWDxC82D",
        "outputId": "422c4c0f-4776-4b10-eae3-a62b094e2532"
      },
      "execution_count": null,
      "outputs": [
        {
          "output_type": "stream",
          "name": "stdout",
          "text": [
            "4 -7 3\n",
            "10 -2 8\n",
            "9 18 12\n"
          ]
        }
      ]
    },
    {
      "cell_type": "code",
      "source": [
        "print(\"Test 4: Single Input\")\n",
        "try:\n",
        "    driver.find_element(By.XPATH, \"//input[@value='single']\").click()\n",
        "    wait.until(EC.visibility_of_element_located((By.ID, \"keyboardInputs\")))\n",
        "    driver.find_element(By.ID, \"a\").clear()\n",
        "    driver.find_element(By.ID, \"a\").send_keys(\"1\")\n",
        "    driver.find_element(By.ID, \"b\").clear()\n",
        "    driver.find_element(By.ID, \"b\").send_keys(\"2\")\n",
        "    driver.find_element(By.ID, \"c\").clear()\n",
        "    driver.find_element(By.ID, \"c\").send_keys(\"1\")\n",
        "    driver.find_element(By.XPATH, \"//button[@onclick='solveEquation()']\").click()\n",
        "    time.sleep(2)\n",
        "    result = driver.find_element(By.ID, \"result\").text\n",
        "    print(f\"Result: {result}\\n\")\n",
        "except Exception as e:\n",
        "    print(f\"Test 4 failed: {str(e)}\\n\")\n"
      ],
      "metadata": {
        "colab": {
          "base_uri": "https://localhost:8080/"
        },
        "id": "Niombw5eDH5y",
        "outputId": "169f509b-4967-4507-ddca-87de7979791d"
      },
      "execution_count": null,
      "outputs": [
        {
          "output_type": "stream",
          "name": "stdout",
          "text": [
            "Test 4: Single Input\n",
            "Result: Roots are real and the same: -1\n",
            "\n"
          ]
        }
      ]
    },
    {
      "cell_type": "code",
      "source": [
        "print(\"Test 5: Multiple Input Sets\")\n",
        "try:\n",
        "    input_sets = [\n",
        "        (1, -3, 2),\n",
        "        (4, -7, 3),\n",
        "        (5, -1, 4),\n",
        "        (3, 6, 4),\n",
        "        (2, -4, 1)\n",
        "    ]\n",
        "\n",
        "    for i, (a, b, c) in enumerate(input_sets, start=1):\n",
        "        print(f\"\\nTest 5.{i}: a={a}, b={b}, c={c}\")\n",
        "\n",
        "        driver.find_element(By.XPATH, \"//input[@value='multiple']\").click()\n",
        "        wait.until(EC.visibility_of_element_located((By.ID, \"keyboardInputs\")))\n",
        "\n",
        "        driver.find_element(By.ID, \"a\").clear()\n",
        "        driver.find_element(By.ID, \"a\").send_keys(str(a))\n",
        "        driver.find_element(By.ID, \"b\").clear()\n",
        "        driver.find_element(By.ID, \"b\").send_keys(str(b))\n",
        "        driver.find_element(By.ID, \"c\").clear()\n",
        "        driver.find_element(By.ID, \"c\").send_keys(str(c))\n",
        "\n",
        "        driver.find_element(By.XPATH, \"//button[@onclick='solveEquation()']\").click()\n",
        "        time.sleep(2)\n",
        "\n",
        "        result = wait.until(EC.visibility_of_element_located((By.ID, \"result\"))).text\n",
        "        print(f\"Result: {result}\")\n",
        "\n",
        "        driver.refresh()\n",
        "        time.sleep(1)\n",
        "except Exception as e:\n",
        "    print(f\"Test 5 failed: {str(e)}\\n\")\n"
      ],
      "metadata": {
        "colab": {
          "base_uri": "https://localhost:8080/"
        },
        "id": "ycBa_wW3DPSM",
        "outputId": "d39dade2-143e-48e2-f621-b2c7cfeed161"
      },
      "execution_count": null,
      "outputs": [
        {
          "output_type": "stream",
          "name": "stdout",
          "text": [
            "Test 5: Multiple Input Sets\n",
            "\n",
            "Test 5.1: a=1, b=-3, c=2\n",
            "Result: Roots are real and different: 2, 1\n",
            "\n",
            "Test 5.2: a=4, b=-7, c=3\n",
            "Result: Roots are real and different: 1, 0.75\n",
            "\n",
            "Test 5.3: a=5, b=-1, c=4\n",
            "Result: Roots are complex and different.\n",
            "\n",
            "Test 5.4: a=3, b=6, c=4\n",
            "Result: Roots are complex and different.\n",
            "\n",
            "Test 5.5: a=2, b=-4, c=1\n",
            "Result: Roots are real and different: 1.7071067811865475, 0.2928932188134524\n"
          ]
        }
      ]
    },
    {
      "cell_type": "code",
      "source": [],
      "metadata": {
        "id": "6VUKT3byDXnd"
      },
      "execution_count": null,
      "outputs": []
    }
  ]
}